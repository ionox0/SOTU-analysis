{
 "cells": [
  {
   "cell_type": "code",
   "execution_count": 1,
   "metadata": {
    "collapsed": false
   },
   "outputs": [],
   "source": [
    "import numpy as np\n",
    "import numpy.linalg as LA\n",
    "import pandas as pd\n",
    "\n",
    "import seaborn as sns\n",
    "import matplotlib.pyplot as plt\n",
    "\n",
    "from sklearn.feature_extraction.text import TfidfVectorizer\n",
    "from sklearn.metrics.pairwise import linear_kernel"
   ]
  },
  {
   "cell_type": "code",
   "execution_count": 2,
   "metadata": {
    "collapsed": false
   },
   "outputs": [],
   "source": [
    "f = open('State of the Union Addresses 1970-2016.txt')\n",
    "lines = f.readlines()\n",
    "bigline = \" \".join(lines)\n",
    "stars = bigline.split('***')\n",
    "splits = [s.split('\\r\\n') for s in stars[1:]]\n",
    "tups = [(s[2], s[3], s[4], \"\".join(s[5:])) for s in splits]\n",
    "df = pd.DataFrame(tups)"
   ]
  },
  {
   "cell_type": "code",
   "execution_count": 3,
   "metadata": {
    "collapsed": false
   },
   "outputs": [],
   "source": [
    "df.columns = ['title', 'pres', 'date', 'speech']\n",
    "df['year'] = df['date'].str.split(',', expand=True)[1]"
   ]
  },
  {
   "cell_type": "code",
   "execution_count": 4,
   "metadata": {
    "collapsed": false
   },
   "outputs": [],
   "source": [
    "tfidf_orig = TfidfVectorizer(stop_words='english')\n",
    "tfidf = tfidf_orig.fit_transform(df['speech'])\n",
    "cosine_similarities = linear_kernel(tfidf, tfidf)\n",
    "\n",
    "# Most highly-related speeches\n",
    "related_docs_indices = cosine_similarities.argsort()[:-5:-4]\n",
    "# print(related_docs_indices)\n",
    "\n",
    "cosine_similarities = pd.DataFrame(cosine_similarities)\n",
    "\n",
    "# Set Column and Row names for graphing\n",
    "cosine_similarities.columns = df['pres'] + df['year']\n",
    "cosine_similarities = cosine_similarities.set_index(df['pres'] + df['year'])"
   ]
  },
  {
   "cell_type": "code",
   "execution_count": 17,
   "metadata": {
    "collapsed": false,
    "scrolled": true
   },
   "outputs": [],
   "source": [
    "# Set up the matplotlib figure\n",
    "f, ax = plt.subplots(figsize=(9, 9))\n",
    "\n",
    "# Generate a custom diverging colormap\n",
    "cmap = sns.diverging_palette(250, 10, n=3, as_cmap=True)\n",
    "\n",
    "h = sns.heatmap(cosine_similarities.iloc[178:, 178:], #mask=mask, cmap=cmap, #vmax=.3,\n",
    "            square=True, #xticklabels=5, yticklabels=5,\n",
    "            linewidths=0, cbar_kws={\"shrink\": .5}, ax=ax)\n",
    "\n",
    "plt.xticks(rotation=90)\n",
    "plt.yticks(rotation=0)\n",
    "plt.show()"
   ]
  }
 ],
 "metadata": {
  "kernelspec": {
   "display_name": "Python 2",
   "language": "python",
   "name": "python2"
  },
  "language_info": {
   "codemirror_mode": {
    "name": "ipython",
    "version": 2
   },
   "file_extension": ".py",
   "mimetype": "text/x-python",
   "name": "python",
   "nbconvert_exporter": "python",
   "pygments_lexer": "ipython2",
   "version": "2.7.10"
  }
 },
 "nbformat": 4,
 "nbformat_minor": 0
}
